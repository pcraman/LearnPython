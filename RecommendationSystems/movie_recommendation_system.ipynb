{
 "cells": [
  {
   "cell_type": "markdown",
   "metadata": {},
   "source": [
    "## Movie Recommendation System"
   ]
  },
  {
   "cell_type": "markdown",
   "metadata": {},
   "source": [
    "Based on the tutorial - https://www.youtube.com/watch?v=9gBC9R-msAk&index=3&list=PL2-dafEMk2A6QKz1mrk1uIGfHkC1zZ6UU"
   ]
  },
  {
   "cell_type": "code",
   "execution_count": 35,
   "metadata": {
    "collapsed": false
   },
   "outputs": [],
   "source": [
    "import numpy as np"
   ]
  },
  {
   "cell_type": "code",
   "execution_count": 36,
   "metadata": {
    "collapsed": true
   },
   "outputs": [],
   "source": [
    "import scipy as sp"
   ]
  },
  {
   "cell_type": "code",
   "execution_count": 37,
   "metadata": {
    "collapsed": false
   },
   "outputs": [],
   "source": [
    "from lightfm.datasets import fetch_movielens\n",
    "from lightfm import LightFM"
   ]
  },
  {
   "cell_type": "code",
   "execution_count": 38,
   "metadata": {
    "collapsed": true
   },
   "outputs": [],
   "source": [
    "data = fetch_movielens(min_rating=4.0)"
   ]
  },
  {
   "cell_type": "code",
   "execution_count": 39,
   "metadata": {
    "collapsed": false
   },
   "outputs": [
    {
     "name": "stdout",
     "output_type": "stream",
     "text": [
      "<943x1682 sparse matrix of type '<type 'numpy.int32'>'\n",
      "\twith 49906 stored elements in COOrdinate format>\n",
      "<943x1682 sparse matrix of type '<type 'numpy.int32'>'\n",
      "\twith 5469 stored elements in COOrdinate format>\n"
     ]
    }
   ],
   "source": [
    "print(repr(data['train']))\n",
    "print(repr(data['test']))"
   ]
  },
  {
   "cell_type": "code",
   "execution_count": 40,
   "metadata": {
    "collapsed": false
   },
   "outputs": [
    {
     "name": "stdout",
     "output_type": "stream",
     "text": [
      "CPU times: user 1.12 s, sys: 14.1 ms, total: 1.14 s\n",
      "Wall time: 1.15 s\n"
     ]
    },
    {
     "data": {
      "text/plain": [
       "<lightfm.lightfm.LightFM at 0x1186dc3d0>"
      ]
     },
     "execution_count": 40,
     "metadata": {},
     "output_type": "execute_result"
    }
   ],
   "source": [
    "model = LightFM(loss='warp')\n",
    "%time model.fit(data['train'], epochs=30, num_threads=2)\n",
    "\n"
   ]
  },
  {
   "cell_type": "code",
   "execution_count": 41,
   "metadata": {
    "collapsed": false
   },
   "outputs": [
    {
     "name": "stdout",
     "output_type": "stream",
     "text": [
      "Train precision : 0.52\n",
      "Test precision : 0.08\n"
     ]
    }
   ],
   "source": [
    "from lightfm.evaluation import precision_at_k\n",
    "\n",
    "print(\"Train precision : %.2f\" % precision_at_k(model, data['train'], k=10).mean())\n",
    "print(\"Test precision : %.2f\" % precision_at_k(model, data['test'], k=10).mean())"
   ]
  },
  {
   "cell_type": "code",
   "execution_count": 42,
   "metadata": {
    "collapsed": false
   },
   "outputs": [
    {
     "name": "stdout",
     "output_type": "stream",
     "text": [
      "User 3\n",
      "   Known positives : \n",
      "    Seven (Se7en) (1995)\n",
      "    Contact (1997)\n",
      "    Starship Troopers (1997)\n",
      "    Air Force One (1997)\n",
      "    In & Out (1997)\n",
      "   Recommended : \n",
      "    Scream (1996)\n",
      "    G.I. Jane (1997)\n",
      "    Starship Troopers (1997)\n",
      "    Kiss the Girls (1997)\n",
      "    Air Force One (1997)\n",
      "User 20\n",
      "   Known positives : \n",
      "    Toy Story (1995)\n",
      "    Twelve Monkeys (1995)\n",
      "    Dead Man Walking (1995)\n",
      "    Mr. Holland's Opus (1995)\n",
      "    From Dusk Till Dawn (1996)\n",
      "   Recommended : \n",
      "    Scream (1996)\n",
      "    Godfather, The (1972)\n",
      "    Pulp Fiction (1994)\n",
      "    Heat (1995)\n",
      "    GoodFellas (1990)\n",
      "User 14\n",
      "   Known positives : \n",
      "    Dead Man Walking (1995)\n",
      "    Postino, Il (1994)\n",
      "    Mr. Holland's Opus (1995)\n",
      "    Star Wars (1977)\n",
      "    Truth About Cats & Dogs, The (1996)\n",
      "   Recommended : \n",
      "    English Patient, The (1996)\n",
      "    Sense and Sensibility (1995)\n",
      "    Air Force One (1997)\n",
      "    Titanic (1997)\n",
      "    Contact (1997)\n",
      "User 35\n",
      "   Known positives : \n",
      "    Air Bud (1997)\n",
      "    Scream (1996)\n",
      "    Rainmaker, The (1997)\n",
      "    Game, The (1997)\n",
      "    Spawn (1997)\n",
      "   Recommended : \n",
      "    Air Force One (1997)\n",
      "    Scream (1996)\n",
      "    I Know What You Did Last Summer (1997)\n",
      "    Conspiracy Theory (1997)\n",
      "    Saint, The (1997)\n"
     ]
    }
   ],
   "source": [
    "def sample_recommendation(user_ids, model, data) :\n",
    "    n_users, n_items = data['train'].shape\n",
    "    for user_id in user_ids:\n",
    "        known_positives = data['item_labels'][data['train'].tocsr()[user_id].indices]\n",
    "        \n",
    "        scores = model.predict(user_id, np.arange(n_items))\n",
    "        top_items = data['item_labels'][np.argsort(-scores)]\n",
    "        \n",
    "        print(\"User %s\" % user_id)\n",
    "        print(\"   Known positives : \")\n",
    "        \n",
    "        for x in known_positives[:5] :\n",
    "            print(\"    %s\" % x)\n",
    "            \n",
    "        print(\"   Recommended : \")\n",
    "        \n",
    "        for x in top_items[:5] :\n",
    "            print(\"    %s\" % x)\n",
    "            \n",
    "sample_recommendation([3, 20, 14, 35], model, data)"
   ]
  },
  {
   "cell_type": "code",
   "execution_count": null,
   "metadata": {
    "collapsed": true
   },
   "outputs": [],
   "source": []
  }
 ],
 "metadata": {
  "kernelspec": {
   "display_name": "Python 2",
   "language": "python",
   "name": "python2"
  },
  "language_info": {
   "codemirror_mode": {
    "name": "ipython",
    "version": 2
   },
   "file_extension": ".py",
   "mimetype": "text/x-python",
   "name": "python",
   "nbconvert_exporter": "python",
   "pygments_lexer": "ipython2",
   "version": "2.7.13"
  }
 },
 "nbformat": 4,
 "nbformat_minor": 2
}
