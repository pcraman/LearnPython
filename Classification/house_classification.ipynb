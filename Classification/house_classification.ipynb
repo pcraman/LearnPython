{
 "cells": [
  {
   "cell_type": "markdown",
   "metadata": {},
   "source": [
    "## Tensorflow for Classification"
   ]
  },
  {
   "cell_type": "markdown",
   "metadata": {
    "collapsed": true
   },
   "source": [
    "Classify is good buy or bad buy based on area and bathrooms. Based on https://www.youtube.com/watch?v=4urPuRoT1sE&list=PL2-dafEMk2A7YdKv4XfKpfbTH5z6rEEj3&index=4"
   ]
  },
  {
   "cell_type": "code",
   "execution_count": 1,
   "metadata": {
    "collapsed": true
   },
   "outputs": [],
   "source": [
    "import pandas as pd\n",
    "import numpy as np\n",
    "import matplotlib.pyplot as plt\n",
    "import tensorflow as tf"
   ]
  },
  {
   "cell_type": "code",
   "execution_count": 28,
   "metadata": {
    "collapsed": false
   },
   "outputs": [
    {
     "name": "stdout",
     "output_type": "stream",
     "text": [
      "('Shape is :', (47, 5))\n",
      "('Dataframe columns :', Index([u'index', u'area', u'bathrooms', u'price', u'sq_price'], dtype='object'))\n"
     ]
    }
   ],
   "source": [
    "# Step 1 is to load the data\n",
    "\n",
    "dataframe = pd.read_csv('data.csv')\n",
    "print(\"Shape is :\",dataframe.shape)\n",
    "print(\"Dataframe columns :\",dataframe.columns)\n",
    "\n",
    "\n",
    "modified_dataframe = dataframe.drop(['index', 'price', 'sq_price'], axis = 1)\n",
    "\n",
    "modified_dataframe = modified_dataframe[0:10]"
   ]
  },
  {
   "cell_type": "code",
   "execution_count": 40,
   "metadata": {
    "collapsed": false
   },
   "outputs": [
    {
     "data": {
      "text/html": [
       "<div>\n",
       "<table border=\"1\" class=\"dataframe\">\n",
       "  <thead>\n",
       "    <tr style=\"text-align: right;\">\n",
       "      <th></th>\n",
       "      <th>area</th>\n",
       "      <th>bathrooms</th>\n",
       "      <th>y1</th>\n",
       "      <th>y2</th>\n",
       "    </tr>\n",
       "  </thead>\n",
       "  <tbody>\n",
       "    <tr>\n",
       "      <th>0</th>\n",
       "      <td>2104.0</td>\n",
       "      <td>3.0</td>\n",
       "      <td>1</td>\n",
       "      <td>0</td>\n",
       "    </tr>\n",
       "    <tr>\n",
       "      <th>1</th>\n",
       "      <td>1600.0</td>\n",
       "      <td>3.0</td>\n",
       "      <td>1</td>\n",
       "      <td>0</td>\n",
       "    </tr>\n",
       "    <tr>\n",
       "      <th>2</th>\n",
       "      <td>2400.0</td>\n",
       "      <td>3.0</td>\n",
       "      <td>1</td>\n",
       "      <td>0</td>\n",
       "    </tr>\n",
       "    <tr>\n",
       "      <th>3</th>\n",
       "      <td>1416.0</td>\n",
       "      <td>2.0</td>\n",
       "      <td>0</td>\n",
       "      <td>1</td>\n",
       "    </tr>\n",
       "    <tr>\n",
       "      <th>4</th>\n",
       "      <td>3000.0</td>\n",
       "      <td>4.0</td>\n",
       "      <td>0</td>\n",
       "      <td>1</td>\n",
       "    </tr>\n",
       "    <tr>\n",
       "      <th>5</th>\n",
       "      <td>1985.0</td>\n",
       "      <td>4.0</td>\n",
       "      <td>1</td>\n",
       "      <td>0</td>\n",
       "    </tr>\n",
       "    <tr>\n",
       "      <th>6</th>\n",
       "      <td>1534.0</td>\n",
       "      <td>3.0</td>\n",
       "      <td>0</td>\n",
       "      <td>1</td>\n",
       "    </tr>\n",
       "    <tr>\n",
       "      <th>7</th>\n",
       "      <td>1427.0</td>\n",
       "      <td>3.0</td>\n",
       "      <td>1</td>\n",
       "      <td>0</td>\n",
       "    </tr>\n",
       "    <tr>\n",
       "      <th>8</th>\n",
       "      <td>1380.0</td>\n",
       "      <td>3.0</td>\n",
       "      <td>1</td>\n",
       "      <td>0</td>\n",
       "    </tr>\n",
       "    <tr>\n",
       "      <th>9</th>\n",
       "      <td>1494.0</td>\n",
       "      <td>3.0</td>\n",
       "      <td>1</td>\n",
       "      <td>0</td>\n",
       "    </tr>\n",
       "  </tbody>\n",
       "</table>\n",
       "</div>"
      ],
      "text/plain": [
       "     area  bathrooms  y1  y2\n",
       "0  2104.0        3.0   1   0\n",
       "1  1600.0        3.0   1   0\n",
       "2  2400.0        3.0   1   0\n",
       "3  1416.0        2.0   0   1\n",
       "4  3000.0        4.0   0   1\n",
       "5  1985.0        4.0   1   0\n",
       "6  1534.0        3.0   0   1\n",
       "7  1427.0        3.0   1   0\n",
       "8  1380.0        3.0   1   0\n",
       "9  1494.0        3.0   1   0"
      ]
     },
     "execution_count": 40,
     "metadata": {},
     "output_type": "execute_result"
    }
   ],
   "source": [
    "# Step 2 is to add labels\n",
    "# 1 is good buy, 0 is bad buy\n",
    "modified_dataframe['y1'] = [1,1,1,0,0,1,0,1,1,1]\n",
    "# y2 is negation of y1\n",
    "modified_dataframe['y2'] = modified_dataframe['y1'] == 0\n",
    "# convert boolean type to int\n",
    "modified_dataframe['y2'] = modified_dataframe['y2'].astype(int)\n",
    "\n",
    "modified_dataframe"
   ]
  },
  {
   "cell_type": "code",
   "execution_count": 49,
   "metadata": {
    "collapsed": false
   },
   "outputs": [],
   "source": [
    "# Step 3 is to prepare data for tensorflow \n",
    "# (tensors are a generic version of vectors and matrices)\n",
    "# vector - list of numbers (1D tensor)\n",
    "# matrices - list of list of numbers (2D tensor)\n",
    "# list of list of list of numbers (3D tensors)\n",
    "# ......\n",
    "\n",
    "# convert features to input tensor\n",
    "inputX = modified_dataframe.loc[:, ['area', 'bathrooms']].as_matrix()\n",
    "\n",
    "#convert labels to input tensor\n",
    "inputY = modified_dataframe.loc[:, ['y1', 'y2']].as_matrix()\n"
   ]
  },
  {
   "cell_type": "code",
   "execution_count": 51,
   "metadata": {
    "collapsed": false
   },
   "outputs": [
    {
     "data": {
      "text/plain": [
       "array([[  2.10400000e+03,   3.00000000e+00],\n",
       "       [  1.60000000e+03,   3.00000000e+00],\n",
       "       [  2.40000000e+03,   3.00000000e+00],\n",
       "       [  1.41600000e+03,   2.00000000e+00],\n",
       "       [  3.00000000e+03,   4.00000000e+00],\n",
       "       [  1.98500000e+03,   4.00000000e+00],\n",
       "       [  1.53400000e+03,   3.00000000e+00],\n",
       "       [  1.42700000e+03,   3.00000000e+00],\n",
       "       [  1.38000000e+03,   3.00000000e+00],\n",
       "       [  1.49400000e+03,   3.00000000e+00]])"
      ]
     },
     "execution_count": 51,
     "metadata": {},
     "output_type": "execute_result"
    }
   ],
   "source": [
    "inputX\n"
   ]
  },
  {
   "cell_type": "code",
   "execution_count": 52,
   "metadata": {
    "collapsed": false
   },
   "outputs": [
    {
     "data": {
      "text/plain": [
       "array([[1, 0],\n",
       "       [1, 0],\n",
       "       [1, 0],\n",
       "       [0, 1],\n",
       "       [0, 1],\n",
       "       [1, 0],\n",
       "       [0, 1],\n",
       "       [1, 0],\n",
       "       [1, 0],\n",
       "       [1, 0]])"
      ]
     },
     "execution_count": 52,
     "metadata": {},
     "output_type": "execute_result"
    }
   ],
   "source": [
    "inputY"
   ]
  },
  {
   "cell_type": "code",
   "execution_count": 53,
   "metadata": {
    "collapsed": true
   },
   "outputs": [],
   "source": [
    "# Step 4 is to write out hyperparameters\n",
    "learning_rate = 0.00001\n",
    "training_epochs = 2000\n",
    "display_step = 50\n",
    "n_samples =inputY.size"
   ]
  },
  {
   "cell_type": "code",
   "execution_count": 64,
   "metadata": {
    "collapsed": false
   },
   "outputs": [],
   "source": [
    "# Step 5 is to create our computation graph/neural network\n",
    "# placeholders are gateways for data into our computation graph\n",
    "x = tf.placeholder(tf.float32, [None, 2]) #None means any number of examples\n",
    "\n",
    "# create weights\n",
    "# 2x2 float matrix that we'll keep updating through the training process\n",
    "# variables in tf hold and update parameters\n",
    "# in memory buffers containing tensors\n",
    "W = tf.Variable(tf.zeros([2, 2]), name = \"weights\")\n",
    "\n",
    "# add biases\n",
    "b = tf.Variable(tf.zeros([2]), name = \"biases\")\n",
    "\n",
    "# multiply weights by the input, first calculation\n",
    "# weights are how we govern how data flows in our computation graph\n",
    "# multiply inputs by weights and add biases\n",
    "y_values = tf.add(tf.matmul(x, W), b)\n",
    "\n",
    "# apply softmax to values we just created\n",
    "# softmax is the activation function\n",
    "y = tf.nn.softmax(y_values)\n",
    "\n",
    "#feed in a matrix of labels\n",
    "y_ = tf.placeholder(tf.float32, [None, 2])\n"
   ]
  },
  {
   "cell_type": "code",
   "execution_count": 65,
   "metadata": {
    "collapsed": true
   },
   "outputs": [],
   "source": [
    "# Step 6 is to perform training\n",
    "# create our cost function , mean squared error\n",
    "cost = tf.reduce_sum(tf.pow(y_ - y, 2))/(2*n_samples)\n",
    "\n",
    "# Gradient descent\n",
    "optimizer = tf.train.GradientDescentOptimizer(learning_rate).minimize(cost)"
   ]
  },
  {
   "cell_type": "code",
   "execution_count": 66,
   "metadata": {
    "collapsed": false
   },
   "outputs": [
    {
     "name": "stdout",
     "output_type": "stream",
     "text": [
      "WARNING:tensorflow:From <ipython-input-66-a206cfa2db9b>:2: initialize_all_variables (from tensorflow.python.ops.variables) is deprecated and will be removed after 2017-03-02.\n",
      "Instructions for updating:\n",
      "Use `tf.global_variables_initializer` instead.\n"
     ]
    }
   ],
   "source": [
    "# initialize variables and tensorflow session\n",
    "init = tf.initialize_all_variables()\n",
    "sess = tf.Session()\n",
    "sess.run(init)"
   ]
  },
  {
   "cell_type": "code",
   "execution_count": 68,
   "metadata": {
    "collapsed": false
   },
   "outputs": [
    {
     "name": "stdout",
     "output_type": "stream",
     "text": [
      "Training step: 0000 cost= 0.126285717\n",
      "Training step: 0050 cost= 0.110974386\n",
      "Training step: 0100 cost= 0.110973932\n",
      "Training step: 0150 cost= 0.110973477\n",
      "Training step: 0200 cost= 0.110973045\n",
      "Training step: 0250 cost= 0.110972598\n",
      "Training step: 0300 cost= 0.110972144\n",
      "Training step: 0350 cost= 0.110971712\n",
      "Training step: 0400 cost= 0.110971257\n",
      "Training step: 0450 cost= 0.110970818\n",
      "Training step: 0500 cost= 0.110970378\n",
      "Training step: 0550 cost= 0.110969923\n",
      "Training step: 0600 cost= 0.110969469\n",
      "Training step: 0650 cost= 0.110969029\n",
      "Training step: 0700 cost= 0.110968590\n",
      "Training step: 0750 cost= 0.110968135\n",
      "Training step: 0800 cost= 0.110967681\n",
      "Training step: 0850 cost= 0.110967256\n",
      "Training step: 0900 cost= 0.110966802\n",
      "Training step: 0950 cost= 0.110966362\n",
      "Training step: 1000 cost= 0.110965922\n",
      "Training step: 1050 cost= 0.110965475\n",
      "Training step: 1100 cost= 0.110965036\n",
      "Training step: 1150 cost= 0.110964581\n",
      "Training step: 1200 cost= 0.110964142\n",
      "Training step: 1250 cost= 0.110963702\n",
      "Training step: 1300 cost= 0.110963248\n",
      "Training step: 1350 cost= 0.110962808\n",
      "Training step: 1400 cost= 0.110962369\n",
      "Training step: 1450 cost= 0.110961914\n",
      "Training step: 1500 cost= 0.110961460\n",
      "Training step: 1550 cost= 0.110961035\n",
      "Training step: 1600 cost= 0.110960580\n",
      "Training step: 1650 cost= 0.110960148\n",
      "Training step: 1700 cost= 0.110959694\n",
      "Training step: 1750 cost= 0.110959247\n",
      "Training step: 1800 cost= 0.110958800\n",
      "Training step: 1850 cost= 0.110958360\n",
      "Training step: 1900 cost= 0.110957921\n",
      "Training step: 1950 cost= 0.110957459\n",
      "Optimization Finished!\n",
      "Training cost= 0.112964 W= [[ 0.00035233 -0.00035233]\n",
      " [ 0.00045642 -0.00045642]] b= [  9.53370545e-05  -9.53370400e-05] \n",
      "\n"
     ]
    }
   ],
   "source": [
    "# training loop\n",
    "for i in range(training_epochs):\n",
    "    sess.run(optimizer, feed_dict={x: inputX, y_: inputY}) \n",
    "    \n",
    "    if (i) % display_step == 0:\n",
    "        cc = sess.run(cost, feed_dict={x: inputX, y_:inputY})\n",
    "        print \"Training step:\", '%04d' % (i), \"cost=\", \"{:.9f}\".format(cc) #, \\\"W=\", sess.run(W), \"b=\", sess.run(b)\n",
    "\n",
    "print \"Optimization Finished!\"\n",
    "training_cost = sess.run(cost, feed_dict={x: inputX, y_: inputY})\n",
    "print \"Training cost=\", training_cost, \"W=\", sess.run(W), \"b=\", sess.run(b), '\\n'\n"
   ]
  },
  {
   "cell_type": "code",
   "execution_count": 70,
   "metadata": {
    "collapsed": false
   },
   "outputs": [
    {
     "data": {
      "text/plain": [
       "array([[ 0.8154093 ,  0.18459074],\n",
       "       [ 0.75591207,  0.24408792],\n",
       "       [ 0.84476656,  0.15523341],\n",
       "       [ 0.73102421,  0.26897579],\n",
       "       [ 0.89262539,  0.10737454],\n",
       "       [ 0.80259722,  0.19740283],\n",
       "       [ 0.74722916,  0.25277081],\n",
       "       [ 0.73272437,  0.2672756 ],\n",
       "       [ 0.7261886 ,  0.27381143],\n",
       "       [ 0.74186832,  0.25813165]], dtype=float32)"
      ]
     },
     "execution_count": 70,
     "metadata": {},
     "output_type": "execute_result"
    }
   ],
   "source": [
    "sess.run(y, feed_dict={x: inputX })"
   ]
  },
  {
   "cell_type": "code",
   "execution_count": null,
   "metadata": {
    "collapsed": true
   },
   "outputs": [],
   "source": []
  }
 ],
 "metadata": {
  "kernelspec": {
   "display_name": "Python 2",
   "language": "python",
   "name": "python2"
  },
  "language_info": {
   "codemirror_mode": {
    "name": "ipython",
    "version": 2
   },
   "file_extension": ".py",
   "mimetype": "text/x-python",
   "name": "python",
   "nbconvert_exporter": "python",
   "pygments_lexer": "ipython2",
   "version": "2.7.13"
  }
 },
 "nbformat": 4,
 "nbformat_minor": 2
}
