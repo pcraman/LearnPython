{
 "cells": [
  {
   "cell_type": "markdown",
   "metadata": {},
   "source": [
    "## Gender Classification \n",
    "\n"
   ]
  },
  {
   "cell_type": "markdown",
   "metadata": {},
   "source": [
    "Based on the tutorial - https://www.youtube.com/watch?v=T5pRlIbr6gg&list=PL2-dafEMk2A6QKz1mrk1uIGfHkC1zZ6UU&index=1. The task is to perform gender classification baesd on the height, weight and shoe size."
   ]
  },
  {
   "cell_type": "code",
   "execution_count": 1,
   "metadata": {
    "collapsed": false
   },
   "outputs": [],
   "source": [
    "# Create classifiers for the task\n",
    "\n",
    "from sklearn import tree, svm, neural_network, neighbors\n",
    "\n",
    "clf_tree = tree.DecisionTreeClassifier()\n",
    "clf_svm = svm.SVC()\n",
    "clf_nn = neural_network.MLPClassifier()\n",
    "clf_knn = neighbors.KNeighborsClassifier()"
   ]
  },
  {
   "cell_type": "code",
   "execution_count": 2,
   "metadata": {
    "collapsed": false
   },
   "outputs": [],
   "source": [
    "# Dataset and labels\n",
    "\n",
    "import numpy as np\n",
    "\n",
    "X = np.array([[181, 80, 44], [177, 70, 43], [160, 60, 38], [154, 54, 37], [166, 65, 40],\n",
    "     [190, 90, 47], [175, 64, 39],\n",
    "     [177, 70, 40], [159, 55, 37], [171, 75, 42], [181, 85, 43]])\n",
    "\n",
    "Y = np.array(['male', 'male', 'female', 'female', 'male', 'male', 'female', 'female',\n",
    "     'female', 'male', 'male'])\n"
   ]
  },
  {
   "cell_type": "code",
   "execution_count": 3,
   "metadata": {
    "collapsed": false
   },
   "outputs": [
    {
     "name": "stdout",
     "output_type": "stream",
     "text": [
      "Accuracy of Decision Tree is 100\n"
     ]
    }
   ],
   "source": [
    "from sklearn.metrics import accuracy_score\n",
    "\n",
    "# Train and test the decision tree\n",
    "clf_tree = clf_tree.fit(X, Y)\n",
    "predict_tree = clf_tree.predict(X)\n",
    "accuracy_tree = accuracy_score(Y, predict_tree) * 100\n",
    "print \"Accuracy of Decision Tree is %d\" % accuracy_tree"
   ]
  },
  {
   "cell_type": "code",
   "execution_count": 4,
   "metadata": {
    "collapsed": false
   },
   "outputs": [
    {
     "name": "stdout",
     "output_type": "stream",
     "text": [
      "Accuracy of Linear SVC is 100\n"
     ]
    }
   ],
   "source": [
    "# Train and test Linear SVM\n",
    "\n",
    "clf_svm = clf_svm.fit(X, Y)\n",
    "predict_svm = clf_svm.predict(X)\n",
    "accuracy_svm = accuracy_score(Y, predict_svm) * 100\n",
    "print \"Accuracy of Linear SVC is %d\" % accuracy_svm\n"
   ]
  },
  {
   "cell_type": "code",
   "execution_count": 7,
   "metadata": {
    "collapsed": false
   },
   "outputs": [
    {
     "name": "stdout",
     "output_type": "stream",
     "text": [
      "Accuracy of Neural Net is 45\n"
     ]
    }
   ],
   "source": [
    "# Train and test Neural network\n",
    "\n",
    "clf_nn = clf_nn.fit(X, Y)\n",
    "predict_nn = clf_nn.predict(X)\n",
    "accuracy_nn = accuracy_score(Y, predict_nn) * 100\n",
    "print \"Accuracy of Neural Net is %d\" % accuracy_nn"
   ]
  },
  {
   "cell_type": "code",
   "execution_count": 8,
   "metadata": {
    "collapsed": false
   },
   "outputs": [
    {
     "name": "stdout",
     "output_type": "stream",
     "text": [
      "Accuracy of K-Nearest Neighbour is 72\n"
     ]
    }
   ],
   "source": [
    "# Train and test K-Nearest Neighbours\n",
    "\n",
    "clf_knn = clf_knn.fit(X, Y)\n",
    "predict_knn = clf_knn.predict(X)\n",
    "accuracy_knn = accuracy_score(Y, predict_knn) * 100\n",
    "print \"Accuracy of K-Nearest Neighbour is %d\" % accuracy_knn\n"
   ]
  },
  {
   "cell_type": "code",
   "execution_count": 9,
   "metadata": {
    "collapsed": false
   },
   "outputs": [
    {
     "name": "stdout",
     "output_type": "stream",
     "text": [
      "Best Gender Classifier = Linear SVC\n"
     ]
    }
   ],
   "source": [
    "dict = {'Neural Net' : accuracy_nn, 'Linear SVC' : accuracy_svm, 'K-Nearest Neighbor' : accuracy_knn}\n",
    "best_gender_classifier = max(dict, key = dict.get)\n",
    "\n",
    "print \"Best Gender Classifier = %s\" % best_gender_classifier"
   ]
  },
  {
   "cell_type": "code",
   "execution_count": null,
   "metadata": {
    "collapsed": true
   },
   "outputs": [],
   "source": []
  }
 ],
 "metadata": {
  "kernelspec": {
   "display_name": "Python 2",
   "language": "python",
   "name": "python2"
  },
  "language_info": {
   "codemirror_mode": {
    "name": "ipython",
    "version": 2
   },
   "file_extension": ".py",
   "mimetype": "text/x-python",
   "name": "python",
   "nbconvert_exporter": "python",
   "pygments_lexer": "ipython2",
   "version": "2.7.13"
  }
 },
 "nbformat": 4,
 "nbformat_minor": 2
}
